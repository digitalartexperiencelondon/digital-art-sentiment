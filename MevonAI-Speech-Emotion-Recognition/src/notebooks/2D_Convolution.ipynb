{
  "nbformat": 4,
  "nbformat_minor": 0,
  "metadata": {
    "colab": {
      "name": "2D_Convolution.ipynb",
      "provenance": [],
      "collapsed_sections": []
    },
    "kernelspec": {
      "name": "python3",
      "display_name": "Python 3"
    }
  },
  "cells": [
    {
      "cell_type": "code",
      "metadata": {
        "id": "jbo1de75o-75",
        "colab_type": "code",
        "colab": {
          "base_uri": "https://localhost:8080/",
          "height": 54
        },
        "outputId": "4f9e703b-0eea-4440-e7bb-62f04c06adcb"
      },
      "source": [
        "from google.colab import drive \n",
        "drive.mount('/content/gdrive')"
      ],
      "execution_count": null,
      "outputs": [
        {
          "output_type": "stream",
          "text": [
            "Drive already mounted at /content/gdrive; to attempt to forcibly remount, call drive.mount(\"/content/gdrive\", force_remount=True).\n"
          ],
          "name": "stdout"
        }
      ]
    },
    {
      "cell_type": "code",
      "metadata": {
        "id": "0jXlGPdLLGsM",
        "colab_type": "code",
        "colab": {}
      },
      "source": [
        "!mkdir ravdess_data\n",
        "!unzip 'gdrive/My Drive/Audio_Speech_Actors_01-24.zip' -d ravdess_data"
      ],
      "execution_count": null,
      "outputs": []
    },
    {
      "cell_type": "code",
      "metadata": {
        "id": "rw7AI0AnHynS",
        "colab_type": "code",
        "colab": {}
      },
      "source": [
        "# !rm -rf ravdess_data/A*/03-01-02*"
      ],
      "execution_count": null,
      "outputs": []
    },
    {
      "cell_type": "code",
      "metadata": {
        "id": "kxpTQqp0lNsy",
        "colab_type": "code",
        "colab": {}
      },
      "source": [
        "#1440\n",
        "#1248\n",
        "\n",
        "import pandas as pd\n",
        "import os\n",
        "import librosa\n",
        "import numpy as np\n",
        "lst = np.array([])\n",
        "labels = []\n",
        "i=0\n",
        "\n",
        "shapes = []\n",
        "bookmark=0\n",
        "s_arr = np.zeros((1248,13,216))\n",
        "for folder in os.listdir('ravdess_data/'):\n",
        "  for file in os.listdir(f'{\"ravdess_data/\"}{folder}'):\n",
        "        X, sample_rate = librosa.load(f'{\"ravdess_data/\"}{folder}{\"/\"}{file}', res_type='kaiser_fast',duration=2.5,sr=22050*2,offset=0.5)\n",
        "        sample_rate = np.array(sample_rate)\n",
        "        mfccs = librosa.feature.mfcc(y=X, sr=sample_rate, n_mfcc=13)\n",
        "        \n",
        "        result = np.zeros((13,216))\n",
        "        result[:mfccs.shape[0],:mfccs.shape[1]] = mfccs\n",
        "        s_arr[i] = result\n",
        "        \n",
        "        file = int(file[7:8])-1\n",
        "        if file>0:\n",
        "          file-=1\n",
        "        i+=1\n",
        "        labels.append(file)\n"
      ],
      "execution_count": null,
      "outputs": []
    },
    {
      "cell_type": "code",
      "metadata": {
        "id": "BCqSSzrKJG05",
        "colab_type": "code",
        "colab": {}
      },
      "source": [
        "labels = np.array(labels)"
      ],
      "execution_count": null,
      "outputs": []
    },
    {
      "cell_type": "code",
      "metadata": {
        "id": "gJyapGhCO3C0",
        "colab_type": "code",
        "colab": {}
      },
      "source": [
        "ravdess_X = s_arr\n",
        "ravdess_y = labels\n",
        "np.save('ravdess_X.npy',ravdess_X)\n",
        "np.save('ravdess_y.npy',ravdess_y)"
      ],
      "execution_count": null,
      "outputs": []
    },
    {
      "cell_type": "code",
      "metadata": {
        "id": "OWYQYX9QjhpC",
        "colab_type": "code",
        "colab": {
          "base_uri": "https://localhost:8080/",
          "height": 34
        },
        "outputId": "187e49d7-bbfd-4d9a-fb52-60d96758f766"
      },
      "source": [
        "ravdess_X.shape"
      ],
      "execution_count": null,
      "outputs": [
        {
          "output_type": "execute_result",
          "data": {
            "text/plain": [
              "(1248, 13, 216, 1)"
            ]
          },
          "metadata": {
            "tags": []
          },
          "execution_count": 458
        }
      ]
    },
    {
      "cell_type": "code",
      "metadata": {
        "id": "0bKor_igPolS",
        "colab_type": "code",
        "colab": {}
      },
      "source": [
        "from sklearn.utils import shuffle\n",
        "ravdess_train_X, ravdess_train_y = shuffle(ravdess_train_X, ravdess_train_y, random_state=42)"
      ],
      "execution_count": null,
      "outputs": []
    },
    {
      "cell_type": "code",
      "metadata": {
        "id": "cqeCtX_KmbX5",
        "colab_type": "code",
        "colab": {}
      },
      "source": [
        "from sklearn.utils import shuffle\n",
        "ravdess_X, ravdess_y = shuffle(ravdess_X, ravdess_y, random_state=42)"
      ],
      "execution_count": null,
      "outputs": []
    },
    {
      "cell_type": "code",
      "metadata": {
        "id": "H1ORPRhsT6vM",
        "colab_type": "code",
        "colab": {}
      },
      "source": [
        "ravdess_X = np.expand_dims(ravdess_X,axis=3)"
      ],
      "execution_count": null,
      "outputs": []
    },
    {
      "cell_type": "code",
      "metadata": {
        "id": "_II2q-ne_iWx",
        "colab_type": "code",
        "colab": {}
      },
      "source": [
        "from sklearn.model_selection import train_test_split\n",
        "ravdess_train_X, ravdess_valid_X, ravdess_train_y, ravdess_valid_y  = train_test_split(ravdess_X,ravdess_y,test_size=0.2,random_state=42)"
      ],
      "execution_count": null,
      "outputs": []
    },
    {
      "cell_type": "code",
      "metadata": {
        "id": "UcJd_mWmMrS3",
        "colab_type": "code",
        "colab": {}
      },
      "source": [
        "from sklearn.utils.class_weight import compute_class_weight\n",
        "class_weights = compute_class_weight('balanced', np.unique(ravdess_train_y),ravdess_train_y)"
      ],
      "execution_count": null,
      "outputs": []
    },
    {
      "cell_type": "code",
      "metadata": {
        "id": "CUzwmZLl8Tct",
        "colab_type": "code",
        "colab": {}
      },
      "source": [
        "!cp ravdess_X.npy 'gdrive/My Drive/AI-Hackathon'\n",
        "!cp ravdess_y.npy 'gdrive/My Drive/AI-Hackathon'"
      ],
      "execution_count": null,
      "outputs": []
    },
    {
      "cell_type": "code",
      "metadata": {
        "id": "qbodwCQQFKUD",
        "colab_type": "code",
        "colab": {}
      },
      "source": [
        "!cp 2d_Convolution_Ravdess_Shuffled.h5 'gdrive/My Drive/AI-Hackathon/model'"
      ],
      "execution_count": null,
      "outputs": []
    },
    {
      "cell_type": "code",
      "metadata": {
        "id": "0nbezUSfMvkC",
        "colab_type": "code",
        "colab": {
          "base_uri": "https://localhost:8080/",
          "height": 34
        },
        "outputId": "18566b4b-d7dc-415e-c35e-e59151788d82"
      },
      "source": [
        "ravdess_X.shape"
      ],
      "execution_count": null,
      "outputs": [
        {
          "output_type": "execute_result",
          "data": {
            "text/plain": [
              "(1248, 13, 216, 1)"
            ]
          },
          "metadata": {
            "tags": []
          },
          "execution_count": 346
        }
      ]
    },
    {
      "cell_type": "code",
      "metadata": {
        "id": "qFXjBPzRSgrZ",
        "colab_type": "code",
        "colab": {}
      },
      "source": [
        "import keras\n",
        "import numpy as np\n",
        "import matplotlib.pyplot as plt\n",
        "import tensorflow as tf\n",
        "from keras.preprocessing import sequence\n",
        "from keras.models import Sequential\n",
        "from keras.layers import Dense, Embedding\n",
        "from keras.utils import to_categorical\n",
        "from keras.layers import Input, Flatten, Dropout, Activation, BatchNormalization\n",
        "from keras.layers import Conv2D, MaxPooling2D, LSTM, Lambda\n",
        "from keras.models import Model\n",
        "from keras.callbacks import ModelCheckpoint\n",
        "from sklearn.model_selection import train_test_split\n",
        "from keras import backend as K\n",
        "\n",
        "model_ravdess = Sequential()\n",
        "kernel = 5\n",
        "model_ravdess.add(Conv2D(32, 5,strides=2,padding='same',\n",
        "                 input_shape=(13,216,1)))\n",
        "model_ravdess.add(Activation('relu'))\n",
        "model_ravdess.add(BatchNormalization())\n",
        "\n",
        "# model_ravdess.add(MaxPooling1D(pool_size=(8)))\n",
        "model_ravdess.add(Conv2D(64, 5,strides=2,padding='same',))\n",
        "model_ravdess.add(Activation('relu'))\n",
        "model_ravdess.add(BatchNormalization())\n",
        "\n",
        "model_ravdess.add(Conv2D(64, 5,strides=2,padding='same',))\n",
        "model_ravdess.add(Activation('relu'))\n",
        "model_ravdess.add(BatchNormalization())\n",
        "# model_ravdess.add(MaxPooling2D(pool_size=(2,3)))\n",
        "# model_ravdess.add(Lambda(lambda x: K.squeeze(x, axis= 1)))\n",
        "model_ravdess.add(Flatten())\n",
        "\n",
        "# model_ravdess.add(LSTM(16))\n",
        "# model_ravdess.add(Dropout(0.5))\n",
        "\n",
        "model_ravdess.add(Dense(7))\n",
        "model_ravdess.add(Activation('softmax'))\n",
        "# opt = keras.optimizers.rmsprop(lr=0.00005, rho=0.9, epsilon=None, decay=0.0)\n",
        "\n",
        "\n",
        "opt = keras.optimizers.Adam(lr=0.001, beta_1=0.9, beta_2=0.999, epsilon=None, decay=0.0, amsgrad=False)"
      ],
      "execution_count": null,
      "outputs": []
    },
    {
      "cell_type": "code",
      "metadata": {
        "id": "tE2qDOrc4fME",
        "colab_type": "code",
        "colab": {
          "base_uri": "https://localhost:8080/",
          "height": 538
        },
        "outputId": "ea58efd2-7028-425e-c2c3-d1f4cc42c46f"
      },
      "source": [
        "model_ravdess.summary()"
      ],
      "execution_count": null,
      "outputs": [
        {
          "output_type": "stream",
          "text": [
            "Model: \"sequential_45\"\n",
            "_________________________________________________________________\n",
            "Layer (type)                 Output Shape              Param #   \n",
            "=================================================================\n",
            "conv2d_133 (Conv2D)          (None, 7, 108, 32)        832       \n",
            "_________________________________________________________________\n",
            "activation_158 (Activation)  (None, 7, 108, 32)        0         \n",
            "_________________________________________________________________\n",
            "batch_normalization_133 (Bat (None, 7, 108, 32)        128       \n",
            "_________________________________________________________________\n",
            "conv2d_134 (Conv2D)          (None, 4, 54, 64)         51264     \n",
            "_________________________________________________________________\n",
            "activation_159 (Activation)  (None, 4, 54, 64)         0         \n",
            "_________________________________________________________________\n",
            "batch_normalization_134 (Bat (None, 4, 54, 64)         256       \n",
            "_________________________________________________________________\n",
            "conv2d_135 (Conv2D)          (None, 2, 27, 64)         102464    \n",
            "_________________________________________________________________\n",
            "activation_160 (Activation)  (None, 2, 27, 64)         0         \n",
            "_________________________________________________________________\n",
            "batch_normalization_135 (Bat (None, 2, 27, 64)         256       \n",
            "_________________________________________________________________\n",
            "dense_26 (Dense)             (None, 2, 27, 7)          455       \n",
            "_________________________________________________________________\n",
            "activation_161 (Activation)  (None, 2, 27, 7)          0         \n",
            "=================================================================\n",
            "Total params: 155,655\n",
            "Trainable params: 155,335\n",
            "Non-trainable params: 320\n",
            "_________________________________________________________________\n"
          ],
          "name": "stdout"
        }
      ]
    },
    {
      "cell_type": "code",
      "metadata": {
        "id": "bRaYEaQWYIUs",
        "colab_type": "code",
        "colab": {}
      },
      "source": [
        "model_ravdess.compile(loss='sparse_categorical_crossentropy',\n",
        "              optimizer=opt,\n",
        "              metrics=['accuracy'])"
      ],
      "execution_count": null,
      "outputs": []
    },
    {
      "cell_type": "code",
      "metadata": {
        "id": "CgQWTsv-X8KQ",
        "colab_type": "code",
        "colab": {
          "base_uri": "https://localhost:8080/",
          "height": 34
        },
        "outputId": "b6ab9178-0e0a-4e63-aaa0-81a32d22873b"
      },
      "source": [
        "ravdess_train_X.shape, ravdess_train_y.shape"
      ],
      "execution_count": null,
      "outputs": [
        {
          "output_type": "execute_result",
          "data": {
            "text/plain": [
              "((998, 13, 216, 1), (998,))"
            ]
          },
          "metadata": {
            "tags": []
          },
          "execution_count": 447
        }
      ]
    },
    {
      "cell_type": "code",
      "metadata": {
        "id": "e0DsrzGP_cYB",
        "colab_type": "code",
        "colab": {
          "base_uri": "https://localhost:8080/",
          "height": 364
        },
        "outputId": "f3427e3f-440a-4fc4-8b24-80aea118580f"
      },
      "source": [
        "cnnhistory=model_ravdess.fit(ravdess_X, ravdess_y, batch_size=16, epochs=10, validation_data=None)"
      ],
      "execution_count": null,
      "outputs": [
        {
          "output_type": "stream",
          "text": [
            "Epoch 1/10\n",
            "1248/1248 [==============================] - 6s 5ms/step - loss: 0.0453 - acc: 0.9936\n",
            "Epoch 2/10\n",
            "1248/1248 [==============================] - 6s 5ms/step - loss: 0.0305 - acc: 0.9952\n",
            "Epoch 3/10\n",
            "1248/1248 [==============================] - 6s 5ms/step - loss: 0.0201 - acc: 0.9992\n",
            "Epoch 4/10\n",
            "1248/1248 [==============================] - 6s 5ms/step - loss: 0.0123 - acc: 1.0000\n",
            "Epoch 5/10\n",
            "1248/1248 [==============================] - 6s 5ms/step - loss: 0.0092 - acc: 1.0000\n",
            "Epoch 6/10\n",
            "1248/1248 [==============================] - 6s 5ms/step - loss: 0.0091 - acc: 0.9992\n",
            "Epoch 7/10\n",
            "1248/1248 [==============================] - 6s 5ms/step - loss: 0.0075 - acc: 1.0000\n",
            "Epoch 8/10\n",
            "1248/1248 [==============================] - 6s 5ms/step - loss: 0.0050 - acc: 1.0000\n",
            "Epoch 9/10\n",
            "1248/1248 [==============================] - 6s 5ms/step - loss: 0.0048 - acc: 1.0000\n",
            "Epoch 10/10\n",
            "1248/1248 [==============================] - 6s 5ms/step - loss: 0.0041 - acc: 1.0000\n"
          ],
          "name": "stdout"
        }
      ]
    },
    {
      "cell_type": "code",
      "metadata": {
        "id": "SME9k6yplzsL",
        "colab_type": "code",
        "colab": {
          "base_uri": "https://localhost:8080/",
          "height": 52
        },
        "outputId": "55d139d0-f418-4337-ee81-2a5436f50e73"
      },
      "source": [
        "model_ravdess.evaluate(ravdess_valid_X,ravdess_valid_y)"
      ],
      "execution_count": null,
      "outputs": [
        {
          "output_type": "stream",
          "text": [
            "250/250 [==============================] - 0s 2ms/step\n"
          ],
          "name": "stdout"
        },
        {
          "output_type": "execute_result",
          "data": {
            "text/plain": [
              "[1.0253960466384888, 0.6600000028610229]"
            ]
          },
          "metadata": {
            "tags": []
          },
          "execution_count": 457
        }
      ]
    },
    {
      "cell_type": "code",
      "metadata": {
        "id": "SrNqnD8h_fjG",
        "colab_type": "code",
        "colab": {}
      },
      "source": [
        "model_ravdess.save(\"lstm_2d_Convolution_Ravdess_Shuffled_new.h5\")"
      ],
      "execution_count": null,
      "outputs": []
    },
    {
      "cell_type": "code",
      "metadata": {
        "id": "NGZz8qRtRhEX",
        "colab_type": "code",
        "colab": {}
      },
      "source": [
        "model_ravdes = load_model(\"2d_Convolution_Ravdess_Shuffled.h5\")"
      ],
      "execution_count": null,
      "outputs": []
    },
    {
      "cell_type": "code",
      "metadata": {
        "id": "OvZIgYvQUqNr",
        "colab_type": "code",
        "colab": {}
      },
      "source": [
        "model_ravdes = load_model(\"lstm_2d_Convolution_Ravdess_Shuffled.h5\")"
      ],
      "execution_count": null,
      "outputs": []
    },
    {
      "cell_type": "code",
      "metadata": {
        "id": "RPZhUQGpC2ej",
        "colab_type": "code",
        "colab": {}
      },
      "source": [
        "cp -R 'gdrive/My Drive/Filtered Data' ."
      ],
      "execution_count": null,
      "outputs": []
    },
    {
      "cell_type": "code",
      "metadata": {
        "id": "3faJFyAoDMlH",
        "colab_type": "code",
        "colab": {}
      },
      "source": [
        "\n",
        "X, sample_rate = librosa.load('neutral_e2.wav', res_type='kaiser_fast',duration=2.5,sr=22050*2,offset=0.5)\n",
        "sample_rate = np.array(sample_rate)\n",
        "mfccs = librosa.feature.mfcc(y=X, sr=sample_rate, n_mfcc=13)\n",
        "\n",
        "result = np.zeros((13,216))\n",
        "result[:mfccs.shape[0],:mfccs.shape[1]] = mfccs\n",
        "t_arr[0] = result\n",
        "\n",
        "t_arr.shape"
      ],
      "execution_count": null,
      "outputs": []
    },
    {
      "cell_type": "code",
      "metadata": {
        "id": "pEjmUUf6SJNY",
        "colab_type": "code",
        "colab": {}
      },
      "source": [
        "t_arr = np.zeros((30,13,216))"
      ],
      "execution_count": null,
      "outputs": []
    },
    {
      "cell_type": "code",
      "metadata": {
        "id": "kngJFbSyCglS",
        "colab_type": "code",
        "colab": {}
      },
      "source": [
        "!unzip 'gdrive/My Drive/Tata-Training-Diarize.zip'"
      ],
      "execution_count": null,
      "outputs": []
    },
    {
      "cell_type": "code",
      "metadata": {
        "id": "0a2nnGq5UhxD",
        "colab_type": "code",
        "colab": {}
      },
      "source": [
        "# !mv Tata-Training-Diarize/1 Tata-Training-Diarize/temp\n",
        "# !mv Tata-Training-Diarize/2 Tata-Training-Diarize/1\n",
        "# !mv Tata-Training-Diarize/temp Tata-Training-Diarize/2"
      ],
      "execution_count": null,
      "outputs": []
    },
    {
      "cell_type": "code",
      "metadata": {
        "id": "xmx89WMWR6AR",
        "colab_type": "code",
        "colab": {}
      },
      "source": [
        "i=0\n",
        "test_labels = []\n",
        "for folder in os.listdir('Tata-Training-Diarize'):\n",
        "  for file in os.listdir(f'{\"Tata-Training-Diarize/\"}{folder}'):\n",
        "    try:\n",
        "      X, sample_rate = librosa.load(f'{\"Tata-Training-Diarize/\"}{folder}{\"/\"}{file}', res_type='kaiser_fast',duration=2.5,sr=22050*2,offset=0.5)\n",
        "      sample_rate = np.array(sample_rate)\n",
        "      mfccs = librosa.feature.mfcc(y=X, sr=sample_rate, n_mfcc=13)\n",
        "\n",
        "      result = np.zeros((13,216))\n",
        "      result[:mfccs.shape[0],:mfccs.shape[1]] = mfccs\n",
        "      t_arr[i] = result\n",
        "\n",
        "      i+=1\n",
        "      test_labels.append(int(folder))\n",
        "    except:\n",
        "      continue\n"
      ],
      "execution_count": null,
      "outputs": []
    },
    {
      "cell_type": "code",
      "metadata": {
        "id": "kZatl2E2DEx6",
        "colab_type": "code",
        "colab": {
          "base_uri": "https://localhost:8080/",
          "height": 34
        },
        "outputId": "32c617e3-ffad-46ab-be5a-84a0ee069757"
      },
      "source": [
        "t_arr.shape"
      ],
      "execution_count": null,
      "outputs": [
        {
          "output_type": "execute_result",
          "data": {
            "text/plain": [
              "(30, 13, 216)"
            ]
          },
          "metadata": {
            "tags": []
          },
          "execution_count": 413
        }
      ]
    },
    {
      "cell_type": "code",
      "metadata": {
        "id": "NXxab1D8DpEl",
        "colab_type": "code",
        "colab": {}
      },
      "source": [
        "test = np.expand_dims(t_arr,axis=3)"
      ],
      "execution_count": null,
      "outputs": []
    },
    {
      "cell_type": "code",
      "metadata": {
        "id": "fp_Myi45DyKC",
        "colab_type": "code",
        "colab": {
          "base_uri": "https://localhost:8080/",
          "height": 34
        },
        "outputId": "101bcdca-af28-4f7c-f872-3fae6b26a376"
      },
      "source": [
        "test.shape"
      ],
      "execution_count": null,
      "outputs": [
        {
          "output_type": "execute_result",
          "data": {
            "text/plain": [
              "(30, 13, 216, 1)"
            ]
          },
          "metadata": {
            "tags": []
          },
          "execution_count": 454
        }
      ]
    },
    {
      "cell_type": "code",
      "metadata": {
        "id": "HsGoaA29TEv3",
        "colab_type": "code",
        "colab": {}
      },
      "source": [
        "classes = ['Neutral','Happy','Sad','Angry','Fearful','Disgust','Surprise']"
      ],
      "execution_count": null,
      "outputs": []
    },
    {
      "cell_type": "code",
      "metadata": {
        "id": "CSKLou7LDzXS",
        "colab_type": "code",
        "colab": {
          "base_uri": "https://localhost:8080/",
          "height": 538
        },
        "outputId": "205e8adf-f4f8-4bf3-eb14-165f35e5dab4"
      },
      "source": [
        "preds = model_ravdess.predict_classes(test)\n",
        "for i in range(len(preds)):\n",
        "  print(classes[preds[i]], '     ',classes[test_labels[i]])"
      ],
      "execution_count": null,
      "outputs": [
        {
          "output_type": "stream",
          "text": [
            "Sad       Sad\n",
            "Sad       Sad\n",
            "Sad       Happy\n",
            "Sad       Happy\n",
            "Sad       Happy\n",
            "Sad       Happy\n",
            "Sad       Happy\n",
            "Disgust       Happy\n",
            "Disgust       Happy\n",
            "Sad       Fearful\n",
            "Sad       Angry\n",
            "Disgust       Angry\n",
            "Sad       Angry\n",
            "Sad       Disgust\n",
            "Sad       Neutral\n",
            "Disgust       Neutral\n",
            "Disgust       Neutral\n",
            "Sad       Neutral\n",
            "Sad       Neutral\n",
            "Sad       Neutral\n",
            "Sad       Neutral\n",
            "Sad       Neutral\n",
            "Sad       Neutral\n",
            "Disgust       Neutral\n",
            "Sad       Neutral\n",
            "Sad       Neutral\n",
            "Happy       Neutral\n",
            "Sad       Neutral\n",
            "Happy       Neutral\n",
            "Sad       Neutral\n"
          ],
          "name": "stdout"
        }
      ]
    },
    {
      "cell_type": "code",
      "metadata": {
        "id": "Hk5n67vvD4bY",
        "colab_type": "code",
        "colab": {}
      },
      "source": [
        "ravdess_X = t_arr\n",
        "ravdess_y = test_labels"
      ],
      "execution_count": null,
      "outputs": []
    },
    {
      "cell_type": "code",
      "metadata": {
        "id": "jKzTs3kuE6uT",
        "colab_type": "code",
        "colab": {}
      },
      "source": [
        "ravdess_X = np.expand_dims(ravdess_X,axis=3)"
      ],
      "execution_count": null,
      "outputs": []
    },
    {
      "cell_type": "code",
      "metadata": {
        "id": "Fy6XrEoMEmLZ",
        "colab_type": "code",
        "colab": {}
      },
      "source": [
        "from sklearn.model_selection import train_test_split\n",
        "ravdess_train_X, ravdess_valid_X, ravdess_train_y, ravdess_valid_y  = train_test_split(ravdess_X,ravdess_y,test_size=0.2,random_state=42)"
      ],
      "execution_count": null,
      "outputs": []
    },
    {
      "cell_type": "code",
      "metadata": {
        "id": "QjiwzYA3f6Qn",
        "colab_type": "code",
        "colab": {}
      },
      "source": [
        "from sklearn.utils.class_weight import compute_class_weight\n",
        "class_weights = compute_class_weight('balanced', np.unique(ravdess_train_y),ravdess_train_y)"
      ],
      "execution_count": null,
      "outputs": []
    },
    {
      "cell_type": "code",
      "metadata": {
        "id": "mvP8IOxxE_F1",
        "colab_type": "code",
        "colab": {}
      },
      "source": [
        "cnnhistory=model_ravdess.fit(ravdess_train_X, ravdess_train_y, batch_size=4, epochs=5, validation_data=(ravdess_valid_X, ravdess_valid_y),class_weight=class_weights)"
      ],
      "execution_count": null,
      "outputs": []
    },
    {
      "cell_type": "code",
      "metadata": {
        "id": "DKyzei74fiFy",
        "colab_type": "code",
        "colab": {
          "base_uri": "https://localhost:8080/",
          "height": 34
        },
        "outputId": "ac5bc066-cb9d-43eb-ca35-7c50e9ec148b"
      },
      "source": [
        "ravdess_train_y"
      ],
      "execution_count": null,
      "outputs": [
        {
          "output_type": "execute_result",
          "data": {
            "text/plain": [
              "[0, 0, 3, 2, 1, 0, 1, 5, 3, 0, 2, 1, 0, 1, 0, 0, 0, 0, 0, 1, 3, 0, 0, 1]"
            ]
          },
          "metadata": {
            "tags": []
          },
          "execution_count": 412
        }
      ]
    },
    {
      "cell_type": "code",
      "metadata": {
        "id": "iKV33mujFINT",
        "colab_type": "code",
        "colab": {}
      },
      "source": [
        "preds = model_ravdess.predict_classes(test)\n",
        "for i in range(len(preds)):\n",
        "  print(classes[preds[i]], '     ',classes[test_labels[i]])"
      ],
      "execution_count": null,
      "outputs": []
    },
    {
      "cell_type": "code",
      "metadata": {
        "id": "K3xyPNsFFas8",
        "colab_type": "code",
        "colab": {}
      },
      "source": [
        "model_ravdess.save('lstm_trained_on_received_data.h5')"
      ],
      "execution_count": null,
      "outputs": []
    },
    {
      "cell_type": "code",
      "metadata": {
        "id": "_mxzMWdcV1aa",
        "colab_type": "code",
        "colab": {}
      },
      "source": [
        "!cp lstm_trained_on_received_data.h5 'gdrive/My Drive/AI-Hackathon/model'"
      ],
      "execution_count": null,
      "outputs": []
    },
    {
      "cell_type": "code",
      "metadata": {
        "id": "b8Tcj9gYWJcT",
        "colab_type": "code",
        "colab": {}
      },
      "source": [
        "cp 'gdrive/My Drive/Recording/Angry/Angry.m4a' ."
      ],
      "execution_count": null,
      "outputs": []
    },
    {
      "cell_type": "code",
      "metadata": {
        "id": "p5xh43ieehVR",
        "colab_type": "code",
        "colab": {
          "base_uri": "https://localhost:8080/",
          "height": 34
        },
        "outputId": "3761ecab-c1b6-4643-8a4c-2853868398f2"
      },
      "source": [
        "temp = np.zeros((1,13,216))\n",
        "X, sample_rate = librosa.load('Angry.m4a', res_type='kaiser_fast',duration=2.5,sr=22050*2,offset=0.5)\n",
        "sample_rate = np.array(sample_rate)\n",
        "mfccs = librosa.feature.mfcc(y=X, sr=sample_rate, n_mfcc=13)\n",
        "\n",
        "result = np.zeros((13,216))\n",
        "result[:mfccs.shape[0],:mfccs.shape[1]] = mfccs\n",
        "temp[0] = result\n",
        "\n",
        "temp.shape"
      ],
      "execution_count": null,
      "outputs": [
        {
          "output_type": "execute_result",
          "data": {
            "text/plain": [
              "(1, 13, 216)"
            ]
          },
          "metadata": {
            "tags": []
          },
          "execution_count": 404
        }
      ]
    },
    {
      "cell_type": "code",
      "metadata": {
        "id": "zsykNEoPe1YY",
        "colab_type": "code",
        "colab": {}
      },
      "source": [
        "t = np.expand_dims(temp,axis=3)"
      ],
      "execution_count": null,
      "outputs": []
    },
    {
      "cell_type": "code",
      "metadata": {
        "id": "mgLCuY2pfWpt",
        "colab_type": "code",
        "colab": {
          "base_uri": "https://localhost:8080/",
          "height": 34
        },
        "outputId": "a77c5358-ebac-4bd3-91e0-294579aa0496"
      },
      "source": [
        "t.shape"
      ],
      "execution_count": null,
      "outputs": [
        {
          "output_type": "execute_result",
          "data": {
            "text/plain": [
              "(1, 13, 216, 1)"
            ]
          },
          "metadata": {
            "tags": []
          },
          "execution_count": 409
        }
      ]
    },
    {
      "cell_type": "code",
      "metadata": {
        "id": "VWu4VMBleqvP",
        "colab_type": "code",
        "colab": {
          "base_uri": "https://localhost:8080/",
          "height": 34
        },
        "outputId": "67281e90-cbb0-44fb-fa11-71c54816709b"
      },
      "source": [
        "model_ravdess.predict_classes(t)"
      ],
      "execution_count": null,
      "outputs": [
        {
          "output_type": "execute_result",
          "data": {
            "text/plain": [
              "array([1])"
            ]
          },
          "metadata": {
            "tags": []
          },
          "execution_count": 410
        }
      ]
    },
    {
      "cell_type": "code",
      "metadata": {
        "id": "m16s72vueyWn",
        "colab_type": "code",
        "colab": {}
      },
      "source": [
        ""
      ],
      "execution_count": null,
      "outputs": []
    }
  ]
}